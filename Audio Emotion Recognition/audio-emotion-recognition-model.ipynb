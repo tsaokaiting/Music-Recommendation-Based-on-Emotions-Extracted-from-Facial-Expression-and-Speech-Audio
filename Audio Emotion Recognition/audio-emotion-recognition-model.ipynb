{
 "cells": [
  {
   "cell_type": "code",
   "execution_count": 1,
   "metadata": {
    "colab": {
     "base_uri": "https://localhost:8080/"
    },
    "id": "8j6CPkTK2LUx",
    "outputId": "db67ffeb-0f1e-4c7e-a521-09e46255af32"
   },
   "outputs": [
    {
     "name": "stdout",
     "output_type": "stream",
     "text": [
      "Mounted at /content/gdrive\n"
     ]
    }
   ],
   "source": [
    "from google.colab import drive\n",
    "drive.mount('/content/gdrive')"
   ]
  },
  {
   "cell_type": "code",
   "execution_count": 4,
   "metadata": {
    "id": "4qsK6f-7Nj4Q"
   },
   "outputs": [],
   "source": [
    "import pandas as pd\n",
    "import numpy as np\n",
    "\n",
    "import os\n",
    "import sys\n",
    "\n",
    "import librosa\n",
    "import librosa.display\n",
    "\n",
    "import seaborn as sns\n",
    "import matplotlib.pyplot as plt\n",
    "\n",
    "from sklearn.preprocessing import StandardScaler, OneHotEncoder\n",
    "from sklearn.metrics import confusion_matrix, classification_report\n",
    "from sklearn.model_selection import train_test_split\n",
    "\n",
    "from IPython.display import Audio\n",
    "\n",
    "import keras\n",
    "from keras.callbacks import ReduceLROnPlateau\n",
    "from keras.models import Sequential\n",
    "from keras.layers import Dense, Conv1D, MaxPooling1D, Flatten, Dropout, BatchNormalization\n",
    "from keras.utils import np_utils\n",
    "from keras.callbacks import ModelCheckpoint\n",
    "\n",
    "import warnings\n",
    "if not sys.warnoptions:\n",
    "    warnings.simplefilter(\"ignore\")\n",
    "warnings.filterwarnings(\"ignore\", category=DeprecationWarning) "
   ]
  },
  {
   "cell_type": "code",
   "execution_count": 9,
   "metadata": {
    "id": "pdC_eiGANmVK"
   },
   "outputs": [],
   "source": [
    "Ravdess = \"C:/Users/Joyce Huang/Downloads/archive/audio_speech_actors_01-24/\""
   ]
  },
  {
   "cell_type": "code",
   "execution_count": 10,
   "metadata": {
    "colab": {
     "base_uri": "https://localhost:8080/",
     "height": 206
    },
    "id": "8o72IGqiQZJj",
    "outputId": "123b811b-195c-411a-d92a-73756ffe79ef"
   },
   "outputs": [
    {
     "data": {
      "text/html": [
       "<div>\n",
       "<style scoped>\n",
       "    .dataframe tbody tr th:only-of-type {\n",
       "        vertical-align: middle;\n",
       "    }\n",
       "\n",
       "    .dataframe tbody tr th {\n",
       "        vertical-align: top;\n",
       "    }\n",
       "\n",
       "    .dataframe thead th {\n",
       "        text-align: right;\n",
       "    }\n",
       "</style>\n",
       "<table border=\"1\" class=\"dataframe\">\n",
       "  <thead>\n",
       "    <tr style=\"text-align: right;\">\n",
       "      <th></th>\n",
       "      <th>Emotions</th>\n",
       "      <th>Path</th>\n",
       "    </tr>\n",
       "  </thead>\n",
       "  <tbody>\n",
       "    <tr>\n",
       "      <th>0</th>\n",
       "      <td>neutral</td>\n",
       "      <td>C:/Users/Joyce Huang/Downloads/archive/audio_s...</td>\n",
       "    </tr>\n",
       "    <tr>\n",
       "      <th>1</th>\n",
       "      <td>neutral</td>\n",
       "      <td>C:/Users/Joyce Huang/Downloads/archive/audio_s...</td>\n",
       "    </tr>\n",
       "    <tr>\n",
       "      <th>2</th>\n",
       "      <td>neutral</td>\n",
       "      <td>C:/Users/Joyce Huang/Downloads/archive/audio_s...</td>\n",
       "    </tr>\n",
       "    <tr>\n",
       "      <th>3</th>\n",
       "      <td>neutral</td>\n",
       "      <td>C:/Users/Joyce Huang/Downloads/archive/audio_s...</td>\n",
       "    </tr>\n",
       "    <tr>\n",
       "      <th>4</th>\n",
       "      <td>calm</td>\n",
       "      <td>C:/Users/Joyce Huang/Downloads/archive/audio_s...</td>\n",
       "    </tr>\n",
       "  </tbody>\n",
       "</table>\n",
       "</div>"
      ],
      "text/plain": [
       "  Emotions                                               Path\n",
       "0  neutral  C:/Users/Joyce Huang/Downloads/archive/audio_s...\n",
       "1  neutral  C:/Users/Joyce Huang/Downloads/archive/audio_s...\n",
       "2  neutral  C:/Users/Joyce Huang/Downloads/archive/audio_s...\n",
       "3  neutral  C:/Users/Joyce Huang/Downloads/archive/audio_s...\n",
       "4     calm  C:/Users/Joyce Huang/Downloads/archive/audio_s..."
      ]
     },
     "execution_count": 10,
     "metadata": {},
     "output_type": "execute_result"
    }
   ],
   "source": [
    "ravdess_directory_list = os.listdir(Ravdess)\n",
    "file_emotion = []\n",
    "file_path = []\n",
    "for dir in ravdess_directory_list:\n",
    "    # as their are 20 different actors in our previous directory we need to extract files for each actor.\n",
    "    actor = os.listdir(Ravdess + dir)\n",
    "    for file in actor:\n",
    "        part = file.split('.')[0]\n",
    "        part = part.split('-')\n",
    "        # third part in each file represents the emotion associated to that file.\n",
    "        file_emotion.append(int(part[2]))\n",
    "        file_path.append(Ravdess + dir + '/' + file)\n",
    "        \n",
    "# dataframe for emotion of files\n",
    "emotion_df = pd.DataFrame(file_emotion, columns=['Emotions'])\n",
    "\n",
    "# dataframe for path of files.\n",
    "path_df = pd.DataFrame(file_path, columns=['Path'])\n",
    "Ravdess_df = pd.concat([emotion_df, path_df], axis=1)\n",
    "\n",
    "# changing integers to actual emotions.\n",
    "Ravdess_df.Emotions.replace({1:'neutral', 2:'calm', 3:'happy', 4:'sad', 5:'angry', 6:'fear', 7:'disgust', 8:'surprise'}, inplace=True)\n",
    "Ravdess_df.head()"
   ]
  },
  {
   "cell_type": "code",
   "execution_count": 11,
   "metadata": {
    "colab": {
     "base_uri": "https://localhost:8080/",
     "height": 112
    },
    "id": "lneUahxCQdDt",
    "outputId": "5ef8c46d-eabb-4480-8745-c912a3c1e045"
   },
   "outputs": [
    {
     "data": {
      "text/html": [
       "<div>\n",
       "<style scoped>\n",
       "    .dataframe tbody tr th:only-of-type {\n",
       "        vertical-align: middle;\n",
       "    }\n",
       "\n",
       "    .dataframe tbody tr th {\n",
       "        vertical-align: top;\n",
       "    }\n",
       "\n",
       "    .dataframe thead th {\n",
       "        text-align: right;\n",
       "    }\n",
       "</style>\n",
       "<table border=\"1\" class=\"dataframe\">\n",
       "  <thead>\n",
       "    <tr style=\"text-align: right;\">\n",
       "      <th></th>\n",
       "      <th>Emotions</th>\n",
       "      <th>Path</th>\n",
       "    </tr>\n",
       "  </thead>\n",
       "  <tbody>\n",
       "    <tr>\n",
       "      <th>0</th>\n",
       "      <td>neutral</td>\n",
       "      <td>C:/Users/Joyce Huang/Downloads/archive/audio_s...</td>\n",
       "    </tr>\n",
       "    <tr>\n",
       "      <th>1</th>\n",
       "      <td>neutral</td>\n",
       "      <td>C:/Users/Joyce Huang/Downloads/archive/audio_s...</td>\n",
       "    </tr>\n",
       "  </tbody>\n",
       "</table>\n",
       "</div>"
      ],
      "text/plain": [
       "  Emotions                                               Path\n",
       "0  neutral  C:/Users/Joyce Huang/Downloads/archive/audio_s...\n",
       "1  neutral  C:/Users/Joyce Huang/Downloads/archive/audio_s..."
      ]
     },
     "execution_count": 11,
     "metadata": {},
     "output_type": "execute_result"
    }
   ],
   "source": [
    "Ravdess_df = Ravdess_df[Ravdess_df['Emotions']!='calm']\n",
    "Ravdess_df = Ravdess_df[Ravdess_df['Emotions']!='disgust']\n",
    "Ravdess_df.head(2)"
   ]
  },
  {
   "cell_type": "code",
   "execution_count": 42,
   "metadata": {},
   "outputs": [
    {
     "data": {
      "text/plain": [
       "fear        192\n",
       "surprise    192\n",
       "sad         192\n",
       "happy       192\n",
       "angry       192\n",
       "neutral      96\n",
       "Name: Emotions, dtype: int64"
      ]
     },
     "execution_count": 42,
     "metadata": {},
     "output_type": "execute_result"
    }
   ],
   "source": [
    "Ravdess_df.Emotions.value_counts()"
   ]
  },
  {
   "cell_type": "code",
   "execution_count": 12,
   "metadata": {
    "colab": {
     "base_uri": "https://localhost:8080/",
     "height": 355
    },
    "id": "v_JkmAJGRdWa",
    "outputId": "18997503-a8c1-4a8c-f869-530458c11452"
   },
   "outputs": [
    {
     "data": {
      "image/png": "[encoded data removed]",
      "text/plain": [
       "<Figure size 432x288 with 1 Axes>"
      ]
     },
     "metadata": {
      "needs_background": "light"
     },
     "output_type": "display_data"
    }
   ],
   "source": [
    "plt.title('Count of Emotions', size=16)\n",
    "sns.countplot(Ravdess_df.Emotions)\n",
    "plt.ylabel('Count', size=12)\n",
    "plt.xlabel('Emotions', size=12)\n",
    "sns.despine(top=True, right=True, left=False, bottom=False)\n",
    "plt.show()"
   ]
  },
  {
   "cell_type": "code",
   "execution_count": 13,
   "metadata": {
    "id": "ztxcWMehSWwc"
   },
   "outputs": [],
   "source": [
    "def create_waveplot(data, sr, e):\n",
    "    plt.figure(figsize=(10, 3))\n",
    "    plt.title('Waveplot for audio with {} emotion'.format(e), size=15)\n",
    "    librosa.display.waveplot(data, sr=sr)\n",
    "    plt.show()\n",
    "\n",
    "def create_spectrogram(data, sr, e):\n",
    "    # stft function converts the data into short term fourier transform\n",
    "    X = librosa.stft(data)\n",
    "    Xdb = librosa.amplitude_to_db(abs(X))\n",
    "    plt.figure(figsize=(12, 3))\n",
    "    plt.title('Spectrogram for audio with {} emotion'.format(e), size=15)\n",
    "    librosa.display.specshow(Xdb, sr=sr, x_axis='time', y_axis='hz')   \n",
    "    #librosa.display.specshow(Xdb, sr=sr, x_axis='time', y_axis='log')\n",
    "    plt.colorbar()"
   ]
  },
  {
   "cell_type": "code",
   "execution_count": 14,
   "metadata": {
    "id": "RDtF26BPSa9n"
   },
   "outputs": [],
   "source": [
    "def noise(data):\n",
    "    noise_amp = 0.035*np.random.uniform()*np.amax(data)\n",
    "    data = data + noise_amp*np.random.normal(size=data.shape[0])\n",
    "    return data\n",
    "\n",
    "def stretch(data):\n",
    "    return librosa.effects.time_stretch(data, rate=0.8)\n",
    "\n",
    "def shift(data):\n",
    "    shift_range = int(np.random.uniform(low=-5, high = 5)*1000)\n",
    "    return np.roll(data, shift_range)\n",
    "\n",
    "def pitch(data):\n",
    "    return librosa.effects.pitch_shift(data, sr=sample_rate, n_steps=4)\n",
    "\n",
    "# taking any example and checking for techniques.\n",
    "path = np.array(Ravdess_df.Path)[1]\n",
    "data, sample_rate = librosa.load(path)"
   ]
  },
  {
   "cell_type": "code",
   "execution_count": 15,
   "metadata": {
    "id": "3sfXxz4wSdmF"
   },
   "outputs": [],
   "source": [
    "def extract_features(data):\n",
    "    # ZCR\n",
    "    result = np.array([])\n",
    "    zcr = np.mean(librosa.feature.zero_crossing_rate(y=data).T, axis=0)\n",
    "    result=np.hstack((result, zcr)) # stacking horizontally\n",
    "\n",
    "    # Chroma_stft\n",
    "    stft = np.abs(librosa.stft(data))\n",
    "    chroma_stft = np.mean(librosa.feature.chroma_stft(S=stft, sr=sample_rate).T, axis=0)\n",
    "    result = np.hstack((result, chroma_stft)) # stacking horizontally\n",
    "\n",
    "    # MFCC\n",
    "    mfcc = np.mean(librosa.feature.mfcc(y=data, sr=sample_rate).T, axis=0)\n",
    "    result = np.hstack((result, mfcc)) # stacking horizontally\n",
    "\n",
    "    # Root Mean Square Value\n",
    "    rms = np.mean(librosa.feature.rms(y=data).T, axis=0)\n",
    "    result = np.hstack((result, rms)) # stacking horizontally\n",
    "\n",
    "    # MelSpectogram\n",
    "    mel = np.mean(librosa.feature.melspectrogram(y=data, sr=sample_rate).T, axis=0)\n",
    "    result = np.hstack((result, mel)) # stacking horizontally\n",
    "    \n",
    "    return result"
   ]
  },
  {
   "cell_type": "code",
   "execution_count": 16,
   "metadata": {
    "id": "gF6pUzCtSk9T"
   },
   "outputs": [],
   "source": [
    "def get_features(path):\n",
    "    # duration and offset are used to take care of the no audio in start and the ending of each audio files as seen above.\n",
    "    data, sample_rate = librosa.load(path, duration=2.5, offset=0.6)\n",
    "    \n",
    "    # without augmentation\n",
    "    res1 = extract_features(data)\n",
    "    result = np.array(res1)\n",
    "    \n",
    "    # data with noise\n",
    "    noise_data = noise(data)\n",
    "    res2 = extract_features(noise_data)\n",
    "    result = np.vstack((result, res2)) # stacking vertically\n",
    "    \n",
    "    # data with stretching and pitching\n",
    "    new_data = stretch(data)\n",
    "    data_stretch_pitch = pitch(new_data)\n",
    "    res3 = extract_features(data_stretch_pitch)\n",
    "    result = np.vstack((result, res3)) # stacking vertically\n",
    "    \n",
    "    return result"
   ]
  },
  {
   "cell_type": "code",
   "execution_count": 17,
   "metadata": {
    "colab": {
     "base_uri": "https://localhost:8080/"
    },
    "id": "qOfygbS_SqQy",
    "outputId": "68127ba2-a735-4dcf-b7c1-46c86b478545"
   },
   "outputs": [
    {
     "data": {
      "text/plain": [
       "(array([-2.4280996e-06, -1.2362683e-05, -8.5034850e-07, ...,\n",
       "        -1.0113516e-11,  5.1403621e-12,  0.0000000e+00], dtype=float32),\n",
       " 22050)"
      ]
     },
     "execution_count": 17,
     "metadata": {},
     "output_type": "execute_result"
    }
   ],
   "source": [
    "data, sample_rate "
   ]
  },
  {
   "cell_type": "code",
   "execution_count": 43,
   "metadata": {},
   "outputs": [
    {
     "data": {
      "text/plain": [
       "(73574,)"
      ]
     },
     "execution_count": 43,
     "metadata": {},
     "output_type": "execute_result"
    }
   ],
   "source": [
    "data.shape"
   ]
  },
  {
   "cell_type": "code",
   "execution_count": 44,
   "metadata": {},
   "outputs": [
    {
     "data": {
      "text/plain": [
       "22050"
      ]
     },
     "execution_count": 44,
     "metadata": {},
     "output_type": "execute_result"
    }
   ],
   "source": [
    "sample_rate"
   ]
  },
  {
   "cell_type": "code",
   "execution_count": 14,
   "metadata": {
    "id": "TaZfSYtVStjD"
   },
   "outputs": [],
   "source": [
    "X, Y = [], []\n",
    "for path, emotion in zip(Ravdess_df.Path, Ravdess_df.Emotions):\n",
    "    feature = get_features(path)\n",
    "    for ele in feature:\n",
    "        X.append(ele)\n",
    "        # appending emotion 3 times as we have made 3 augmentation techniques on each audio file.\n",
    "        Y.append(emotion)"
   ]
  },
  {
   "cell_type": "code",
   "execution_count": 46,
   "metadata": {
    "id": "vfG9oJ44Swk4"
   },
   "outputs": [],
   "source": [
    "# Features = pd.DataFrame(X)\n",
    "# Features['labels'] = Y\n",
    "# Features.to_csv('/content/gdrive/MyDrive/Colab Notebooks/features.csv', index=False)\n",
    "# Features.head()"
   ]
  },
  {
   "cell_type": "code",
   "execution_count": 18,
   "metadata": {
    "id": "q3Bi589Qdu7U"
   },
   "outputs": [],
   "source": [
    "Features = pd.read_csv(r\"C:\\Users\\Joyce Huang\\Downloads\\BT5153 - Applied Machine Learning for Business Analytics\\final-project\\features.csv\")"
   ]
  },
  {
   "cell_type": "code",
   "execution_count": 19,
   "metadata": {
    "id": "V6pHutN-W18i"
   },
   "outputs": [],
   "source": [
    "X = Features.iloc[: ,:-1].values\n",
    "Y = Features['labels'].values"
   ]
  },
  {
   "cell_type": "code",
   "execution_count": 20,
   "metadata": {
    "id": "Rp0HTXd5XmTV"
   },
   "outputs": [],
   "source": [
    "# As this is a multiclass classification problem onehotencoding our Y.\n",
    "encoder = OneHotEncoder()\n",
    "Y = encoder.fit_transform(np.array(Y).reshape(-1,1)).toarray()"
   ]
  },
  {
   "cell_type": "code",
   "execution_count": 21,
   "metadata": {
    "colab": {
     "base_uri": "https://localhost:8080/"
    },
    "id": "WJr3pIsKYBlG",
    "outputId": "7cf25486-e955-4c52-bba9-f21e9c8de7dc"
   },
   "outputs": [
    {
     "data": {
      "text/plain": [
       "array([[0., 0., 0., 0., 1., 0.],\n",
       "       [0., 0., 0., 0., 1., 0.],\n",
       "       [0., 0., 0., 0., 1., 0.],\n",
       "       ...,\n",
       "       [0., 0., 0., 0., 1., 0.],\n",
       "       [0., 0., 0., 0., 1., 0.],\n",
       "       [0., 0., 0., 0., 1., 0.]])"
      ]
     },
     "execution_count": 21,
     "metadata": {},
     "output_type": "execute_result"
    }
   ],
   "source": [
    "Y"
   ]
  },
  {
   "cell_type": "code",
   "execution_count": 45,
   "metadata": {},
   "outputs": [
    {
     "data": {
      "text/plain": [
       "(3168, 6)"
      ]
     },
     "execution_count": 45,
     "metadata": {},
     "output_type": "execute_result"
    }
   ],
   "source": [
    "Y.shape"
   ]
  },
  {
   "cell_type": "code",
   "execution_count": 22,
   "metadata": {
    "colab": {
     "base_uri": "https://localhost:8080/"
    },
    "id": "VQrPmQ0VXyVR",
    "outputId": "933d8a83-64f5-43d7-d1f3-1f86dc303c94"
   },
   "outputs": [
    {
     "data": {
      "text/plain": [
       "((2376, 162), (2376, 6), (792, 162), (792, 6))"
      ]
     },
     "execution_count": 22,
     "metadata": {},
     "output_type": "execute_result"
    }
   ],
   "source": [
    "# splitting data\n",
    "x_train, x_test, y_train, y_test = train_test_split(X, Y, random_state=0, shuffle=True)\n",
    "x_train.shape, y_train.shape, x_test.shape, y_test.shape"
   ]
  },
  {
   "cell_type": "code",
   "execution_count": 23,
   "metadata": {
    "colab": {
     "base_uri": "https://localhost:8080/"
    },
    "id": "rZjDmQPZYAIR",
    "outputId": "1cec6228-e0aa-408f-91c5-ea8d312d8f53"
   },
   "outputs": [
    {
     "data": {
      "text/plain": [
       "((2376, 162), (2376, 6), (792, 162), (792, 6))"
      ]
     },
     "execution_count": 23,
     "metadata": {},
     "output_type": "execute_result"
    }
   ],
   "source": [
    "# scaling our data with sklearn's Standard scaler\n",
    "scaler = StandardScaler()\n",
    "x_train = scaler.fit_transform(x_train)\n",
    "x_test = scaler.transform(x_test)\n",
    "x_train.shape, y_train.shape, x_test.shape, y_test.shape"
   ]
  },
  {
   "cell_type": "code",
   "execution_count": 24,
   "metadata": {
    "colab": {
     "base_uri": "https://localhost:8080/"
    },
    "id": "Tcqq5k7aYPBj",
    "outputId": "978bdd41-3f1b-45c6-bf87-28cc0c546aa4"
   },
   "outputs": [
    {
     "data": {
      "text/plain": [
       "((2376, 162, 1), (2376, 6), (792, 162, 1), (792, 6))"
      ]
     },
     "execution_count": 24,
     "metadata": {},
     "output_type": "execute_result"
    }
   ],
   "source": [
    "# making our data compatible to model.\n",
    "x_train = np.expand_dims(x_train, axis=2)\n",
    "x_test = np.expand_dims(x_test, axis=2)\n",
    "x_train.shape, y_train.shape, x_test.shape, y_test.shape"
   ]
  },
  {
   "cell_type": "code",
   "execution_count": 25,
   "metadata": {
    "colab": {
     "base_uri": "https://localhost:8080/"
    },
    "id": "Nem5NdbPYbxh",
    "outputId": "e0138d59-68b7-4c5d-a143-3571da3c5c60"
   },
   "outputs": [
    {
     "data": {
      "text/plain": [
       "162"
      ]
     },
     "execution_count": 25,
     "metadata": {},
     "output_type": "execute_result"
    }
   ],
   "source": [
    "x_train.shape[1]"
   ]
  },
  {
   "cell_type": "code",
   "execution_count": 12,
   "metadata": {
    "colab": {
     "base_uri": "https://localhost:8080/"
    },
    "id": "CQIgGbf3YW5r",
    "outputId": "74bec971-a248-4dcf-d2c8-49d57aba734c"
   },
   "outputs": [
    {
     "name": "stdout",
     "output_type": "stream",
     "text": [
      "Model: \"sequential_1\"\n",
      "_________________________________________________________________\n",
      " Layer (type)                Output Shape              Param #   \n",
      "=================================================================\n",
      " conv1d_4 (Conv1D)           (None, 162, 256)          2304      \n",
      "                                                                 \n",
      " max_pooling1d_4 (MaxPooling  (None, 41, 256)          0         \n",
      " 1D)                                                             \n",
      "                                                                 \n",
      " conv1d_5 (Conv1D)           (None, 41, 256)           524544    \n",
      "                                                                 \n",
      " max_pooling1d_5 (MaxPooling  (None, 11, 256)          0         \n",
      " 1D)                                                             \n",
      "                                                                 \n",
      " conv1d_6 (Conv1D)           (None, 11, 128)           262272    \n",
      "                                                                 \n",
      " max_pooling1d_6 (MaxPooling  (None, 3, 128)           0         \n",
      " 1D)                                                             \n",
      "                                                                 \n",
      " dropout_2 (Dropout)         (None, 3, 128)            0         \n",
      "                                                                 \n",
      " conv1d_7 (Conv1D)           (None, 3, 64)             65600     \n",
      "                                                                 \n",
      " max_pooling1d_7 (MaxPooling  (None, 1, 64)            0         \n",
      " 1D)                                                             \n",
      "                                                                 \n",
      " flatten_1 (Flatten)         (None, 64)                0         \n",
      "                                                                 \n",
      " dense_2 (Dense)             (None, 32)                2080      \n",
      "                                                                 \n",
      " dropout_3 (Dropout)         (None, 32)                0         \n",
      "                                                                 \n",
      " dense_3 (Dense)             (None, 6)                 198       \n",
      "                                                                 \n",
      "=================================================================\n",
      "Total params: 856,998\n",
      "Trainable params: 856,998\n",
      "Non-trainable params: 0\n",
      "_________________________________________________________________\n"
     ]
    }
   ],
   "source": [
    "model=Sequential()\n",
    "model.add(Conv1D(256, kernel_size=8, strides=1, padding='same', activation='tanh', input_shape=(x_train.shape[1], 1)))\n",
    "model.add(MaxPooling1D(pool_size=4, strides = 4, padding = 'same'))\n",
    "\n",
    "model.add(Conv1D(256, kernel_size=8, strides=1, padding='same', activation='tanh'))\n",
    "model.add(MaxPooling1D(pool_size=4, strides = 4, padding = 'same'))\n",
    "\n",
    "model.add(Conv1D(128, kernel_size=8, strides=1, padding='same', activation='tanh'))\n",
    "model.add(MaxPooling1D(pool_size=4, strides = 4, padding = 'same'))\n",
    "model.add(Dropout(0.1))\n",
    "\n",
    "model.add(Conv1D(64, kernel_size=8, strides=1, padding='same', activation='tanh'))\n",
    "model.add(MaxPooling1D(pool_size=4, strides = 4, padding = 'same'))\n",
    "\n",
    "model.add(Flatten())\n",
    "model.add(Dense(units=32, activation='tanh'))\n",
    "model.add(Dropout(0.1))\n",
    "\n",
    "model.add(Dense(units=6, activation='softmax'))\n",
    "model.compile(optimizer = 'adam' , loss = 'categorical_crossentropy' , metrics = ['accuracy'])\n",
    "\n",
    "model.summary()\n",
    "Model: \"sequential_1\""
   ]
  },
  {
   "cell_type": "code",
   "execution_count": 13,
   "metadata": {
    "colab": {
     "base_uri": "https://localhost:8080/"
    },
    "id": "laI1vBOTYq3V",
    "outputId": "8b37c05d-62bc-4dd0-ab3a-51512d2fa176"
   },
   "outputs": [
    {
     "name": "stdout",
     "output_type": "stream",
     "text": [
      "Epoch 1/40\n",
      "30/30 [==============================] - 3s 79ms/step - loss: 1.6361 - accuracy: 0.2883 - val_loss: 1.5540 - val_accuracy: 0.3510 - lr: 0.0010\n",
      "Epoch 2/40\n",
      "30/30 [==============================] - 2s 77ms/step - loss: 1.4825 - accuracy: 0.4057 - val_loss: 1.4147 - val_accuracy: 0.4268 - lr: 0.0010\n",
      "Epoch 3/40\n",
      "30/30 [==============================] - 2s 76ms/step - loss: 1.3347 - accuracy: 0.4617 - val_loss: 1.3102 - val_accuracy: 0.4962 - lr: 0.0010\n",
      "Epoch 4/40\n",
      "30/30 [==============================] - 2s 75ms/step - loss: 1.2361 - accuracy: 0.5219 - val_loss: 1.2412 - val_accuracy: 0.5177 - lr: 0.0010\n",
      "Epoch 5/40\n",
      "30/30 [==============================] - 2s 75ms/step - loss: 1.1090 - accuracy: 0.5673 - val_loss: 1.1359 - val_accuracy: 0.5606 - lr: 0.0010\n",
      "Epoch 6/40\n",
      "30/30 [==============================] - 2s 76ms/step - loss: 0.9984 - accuracy: 0.6263 - val_loss: 1.1024 - val_accuracy: 0.5631 - lr: 0.0010\n",
      "Epoch 7/40\n",
      "30/30 [==============================] - 2s 79ms/step - loss: 0.8908 - accuracy: 0.6641 - val_loss: 1.0523 - val_accuracy: 0.5972 - lr: 0.0010\n",
      "Epoch 8/40\n",
      "30/30 [==============================] - 2s 76ms/step - loss: 0.7836 - accuracy: 0.7113 - val_loss: 0.9948 - val_accuracy: 0.6301 - lr: 0.0010\n",
      "Epoch 9/40\n",
      "30/30 [==============================] - 2s 76ms/step - loss: 0.6798 - accuracy: 0.7576 - val_loss: 0.9650 - val_accuracy: 0.6326 - lr: 0.0010\n",
      "Epoch 10/40\n",
      "30/30 [==============================] - 2s 77ms/step - loss: 0.5510 - accuracy: 0.8098 - val_loss: 0.9320 - val_accuracy: 0.6755 - lr: 0.0010\n",
      "Epoch 11/40\n",
      "30/30 [==============================] - 2s 77ms/step - loss: 0.4819 - accuracy: 0.8308 - val_loss: 1.0124 - val_accuracy: 0.6086 - lr: 0.0010\n",
      "Epoch 12/40\n",
      "30/30 [==============================] - 2s 78ms/step - loss: 0.4043 - accuracy: 0.8624 - val_loss: 0.8886 - val_accuracy: 0.7020 - lr: 0.0010\n",
      "Epoch 13/40\n",
      "30/30 [==============================] - 2s 77ms/step - loss: 0.2737 - accuracy: 0.9200 - val_loss: 0.9203 - val_accuracy: 0.6944 - lr: 0.0010\n",
      "Epoch 14/40\n",
      "30/30 [==============================] - 2s 79ms/step - loss: 0.2372 - accuracy: 0.9255 - val_loss: 0.9517 - val_accuracy: 0.6881 - lr: 0.0010\n",
      "Epoch 15/40\n",
      "30/30 [==============================] - 2s 77ms/step - loss: 0.1661 - accuracy: 0.9562 - val_loss: 0.8800 - val_accuracy: 0.7121 - lr: 0.0010\n",
      "Epoch 16/40\n",
      "30/30 [==============================] - 2s 77ms/step - loss: 0.1495 - accuracy: 0.9566 - val_loss: 0.9296 - val_accuracy: 0.6995 - lr: 0.0010\n",
      "Epoch 17/40\n",
      "30/30 [==============================] - 2s 77ms/step - loss: 0.1241 - accuracy: 0.9659 - val_loss: 0.9346 - val_accuracy: 0.7109 - lr: 0.0010\n",
      "Epoch 18/40\n",
      "30/30 [==============================] - 2s 76ms/step - loss: 0.0939 - accuracy: 0.9760 - val_loss: 0.9212 - val_accuracy: 0.7210 - lr: 0.0010\n",
      "Epoch 19/40\n",
      "30/30 [==============================] - 2s 76ms/step - loss: 0.0798 - accuracy: 0.9773 - val_loss: 0.9935 - val_accuracy: 0.7146 - lr: 0.0010\n",
      "Epoch 20/40\n",
      "30/30 [==============================] - 2s 76ms/step - loss: 0.0750 - accuracy: 0.9819 - val_loss: 0.9546 - val_accuracy: 0.7222 - lr: 0.0010\n",
      "Epoch 21/40\n",
      "30/30 [==============================] - 2s 76ms/step - loss: 0.0530 - accuracy: 0.9870 - val_loss: 0.9554 - val_accuracy: 0.7172 - lr: 0.0010\n",
      "Epoch 22/40\n",
      "30/30 [==============================] - 2s 77ms/step - loss: 0.0895 - accuracy: 0.9710 - val_loss: 1.0284 - val_accuracy: 0.7172 - lr: 0.0010\n",
      "Epoch 23/40\n",
      "30/30 [==============================] - ETA: 0s - loss: 0.0917 - accuracy: 0.9705\n",
      "Epoch 00023: ReduceLROnPlateau reducing learning rate to 0.0004000000189989805.\n",
      "30/30 [==============================] - 2s 76ms/step - loss: 0.0917 - accuracy: 0.9705 - val_loss: 1.1986 - val_accuracy: 0.6982 - lr: 0.0010\n",
      "Epoch 24/40\n",
      "30/30 [==============================] - 2s 76ms/step - loss: 0.0502 - accuracy: 0.9870 - val_loss: 0.9738 - val_accuracy: 0.7576 - lr: 4.0000e-04\n",
      "Epoch 25/40\n",
      "30/30 [==============================] - 2s 77ms/step - loss: 0.0183 - accuracy: 0.9979 - val_loss: 0.9780 - val_accuracy: 0.7639 - lr: 4.0000e-04\n",
      "Epoch 26/40\n",
      "30/30 [==============================] - 2s 82ms/step - loss: 0.0104 - accuracy: 0.9996 - val_loss: 0.9325 - val_accuracy: 0.7677 - lr: 4.0000e-04\n",
      "Epoch 27/40\n",
      "30/30 [==============================] - 2s 76ms/step - loss: 0.0082 - accuracy: 1.0000 - val_loss: 0.9196 - val_accuracy: 0.7765 - lr: 4.0000e-04\n",
      "Epoch 28/40\n",
      "30/30 [==============================] - 2s 76ms/step - loss: 0.0075 - accuracy: 1.0000 - val_loss: 0.9281 - val_accuracy: 0.7614 - lr: 4.0000e-04\n",
      "Epoch 29/40\n",
      "30/30 [==============================] - 2s 77ms/step - loss: 0.0067 - accuracy: 1.0000 - val_loss: 0.9191 - val_accuracy: 0.7753 - lr: 4.0000e-04\n",
      "Epoch 30/40\n",
      "30/30 [==============================] - 2s 82ms/step - loss: 0.0061 - accuracy: 1.0000 - val_loss: 0.9318 - val_accuracy: 0.7740 - lr: 4.0000e-04\n",
      "Epoch 31/40\n",
      "30/30 [==============================] - 2s 81ms/step - loss: 0.0060 - accuracy: 1.0000 - val_loss: 0.9253 - val_accuracy: 0.7740 - lr: 4.0000e-04\n",
      "Epoch 32/40\n",
      "30/30 [==============================] - 3s 88ms/step - loss: 0.0053 - accuracy: 1.0000 - val_loss: 0.9366 - val_accuracy: 0.7778 - lr: 4.0000e-04\n",
      "Epoch 33/40\n",
      "30/30 [==============================] - 3s 87ms/step - loss: 0.0050 - accuracy: 1.0000 - val_loss: 0.9359 - val_accuracy: 0.7753 - lr: 4.0000e-04\n",
      "Epoch 34/40\n",
      "30/30 [==============================] - 2s 82ms/step - loss: 0.0052 - accuracy: 1.0000 - val_loss: 0.9412 - val_accuracy: 0.7765 - lr: 4.0000e-04\n",
      "Epoch 35/40\n",
      "30/30 [==============================] - 2s 76ms/step - loss: 0.0045 - accuracy: 1.0000 - val_loss: 0.9455 - val_accuracy: 0.7753 - lr: 4.0000e-04\n",
      "Epoch 36/40\n",
      "30/30 [==============================] - 2s 80ms/step - loss: 0.0043 - accuracy: 1.0000 - val_loss: 0.9380 - val_accuracy: 0.7778 - lr: 4.0000e-04\n",
      "Epoch 37/40\n",
      "30/30 [==============================] - 2s 81ms/step - loss: 0.0041 - accuracy: 1.0000 - val_loss: 0.9470 - val_accuracy: 0.7816 - lr: 4.0000e-04\n",
      "Epoch 38/40\n",
      "30/30 [==============================] - 3s 94ms/step - loss: 0.0039 - accuracy: 1.0000 - val_loss: 0.9510 - val_accuracy: 0.7803 - lr: 4.0000e-04\n",
      "Epoch 39/40\n",
      "30/30 [==============================] - 2s 81ms/step - loss: 0.0038 - accuracy: 1.0000 - val_loss: 0.9522 - val_accuracy: 0.7778 - lr: 4.0000e-04\n",
      "Epoch 40/40\n",
      "30/30 [==============================] - 3s 88ms/step - loss: 0.0036 - accuracy: 1.0000 - val_loss: 0.9525 - val_accuracy: 0.7790 - lr: 4.0000e-04\n"
     ]
    }
   ],
   "source": [
    "rlrp = ReduceLROnPlateau(monitor='loss', factor=0.4, verbose=1, patience=2, min_lr=0.0000001)\n",
    "history=model.fit(x_train, y_train, batch_size=80, epochs=40, validation_data=(x_test, y_test), callbacks=[rlrp])"
   ]
  },
  {
   "cell_type": "code",
   "execution_count": 14,
   "metadata": {
    "colab": {
     "base_uri": "https://localhost:8080/",
     "height": 439
    },
    "id": "fuVbiUyMaHfI",
    "outputId": "80a80b9e-361c-444a-f207-bb23fd38d6a5"
   },
   "outputs": [
    {
     "name": "stdout",
     "output_type": "stream",
     "text": [
      "25/25 [==============================] - 0s 7ms/step - loss: 0.9525 - accuracy: 0.7790\n",
      "Accuracy of our model on test data :  77.90403962135315 %\n"
     ]
    },
    {
     "data": {
      "image/png": "[encoded data removed]",
      "text/plain": [
       "<Figure size 1440x432 with 2 Axes>"
      ]
     },
     "metadata": {
      "needs_background": "light"
     },
     "output_type": "display_data"
    }
   ],
   "source": [
    "print(\"Accuracy of our model on test data : \" , model.evaluate(x_test,y_test)[1]*100 , \"%\")\n",
    "\n",
    "epochs = [i for i in range(40)]\n",
    "fig , ax = plt.subplots(1,2)\n",
    "train_acc = history.history['accuracy']\n",
    "train_loss = history.history['loss']\n",
    "test_acc = history.history['val_accuracy']\n",
    "test_loss = history.history['val_loss']\n",
    "\n",
    "fig.set_size_inches(20,6)\n",
    "ax[0].plot(epochs , train_loss , label = 'Training Loss')\n",
    "ax[0].plot(epochs , test_loss , label = 'Testing Loss')\n",
    "ax[0].set_title('Training & Testing Loss')\n",
    "ax[0].legend()\n",
    "ax[0].set_xlabel(\"Epochs\")\n",
    "\n",
    "ax[1].plot(epochs , train_acc , label = 'Training Accuracy')\n",
    "ax[1].plot(epochs , test_acc , label = 'Testing Accuracy')\n",
    "ax[1].set_title('Training & Testing Accuracy')\n",
    "ax[1].legend()\n",
    "ax[1].set_xlabel(\"Epochs\")\n",
    "plt.show()"
   ]
  },
  {
   "cell_type": "code",
   "execution_count": 15,
   "metadata": {
    "id": "4cbhASJUaR60"
   },
   "outputs": [],
   "source": [
    "# predicting on test data.\n",
    "pred_test = model.predict(x_test)\n",
    "y_pred = encoder.inverse_transform(pred_test)\n",
    "\n",
    "y_test = encoder.inverse_transform(y_test)"
   ]
  },
  {
   "cell_type": "code",
   "execution_count": 16,
   "metadata": {
    "id": "evOmbhjaaYWd"
   },
   "outputs": [],
   "source": [
    "model.save(\"77model.h5\")"
   ]
  },
  {
   "cell_type": "code",
   "execution_count": 17,
   "metadata": {
    "colab": {
     "base_uri": "https://localhost:8080/",
     "height": 363
    },
    "id": "X9iSWG5Icrc2",
    "outputId": "88a22ff1-d9e4-4e95-bd0b-8fd49ae34a72"
   },
   "outputs": [
    {
     "data": {
      "text/html": [
       "<div>\n",
       "<style scoped>\n",
       "    .dataframe tbody tr th:only-of-type {\n",
       "        vertical-align: middle;\n",
       "    }\n",
       "\n",
       "    .dataframe tbody tr th {\n",
       "        vertical-align: top;\n",
       "    }\n",
       "\n",
       "    .dataframe thead th {\n",
       "        text-align: right;\n",
       "    }\n",
       "</style>\n",
       "<table border=\"1\" class=\"dataframe\">\n",
       "  <thead>\n",
       "    <tr style=\"text-align: right;\">\n",
       "      <th></th>\n",
       "      <th>Predicted Labels</th>\n",
       "      <th>Actual Labels</th>\n",
       "    </tr>\n",
       "  </thead>\n",
       "  <tbody>\n",
       "    <tr>\n",
       "      <th>0</th>\n",
       "      <td>sad</td>\n",
       "      <td>surprise</td>\n",
       "    </tr>\n",
       "    <tr>\n",
       "      <th>1</th>\n",
       "      <td>angry</td>\n",
       "      <td>angry</td>\n",
       "    </tr>\n",
       "    <tr>\n",
       "      <th>2</th>\n",
       "      <td>angry</td>\n",
       "      <td>angry</td>\n",
       "    </tr>\n",
       "    <tr>\n",
       "      <th>3</th>\n",
       "      <td>surprise</td>\n",
       "      <td>angry</td>\n",
       "    </tr>\n",
       "    <tr>\n",
       "      <th>4</th>\n",
       "      <td>sad</td>\n",
       "      <td>sad</td>\n",
       "    </tr>\n",
       "    <tr>\n",
       "      <th>5</th>\n",
       "      <td>neutral</td>\n",
       "      <td>surprise</td>\n",
       "    </tr>\n",
       "    <tr>\n",
       "      <th>6</th>\n",
       "      <td>angry</td>\n",
       "      <td>angry</td>\n",
       "    </tr>\n",
       "    <tr>\n",
       "      <th>7</th>\n",
       "      <td>angry</td>\n",
       "      <td>angry</td>\n",
       "    </tr>\n",
       "    <tr>\n",
       "      <th>8</th>\n",
       "      <td>happy</td>\n",
       "      <td>surprise</td>\n",
       "    </tr>\n",
       "    <tr>\n",
       "      <th>9</th>\n",
       "      <td>surprise</td>\n",
       "      <td>surprise</td>\n",
       "    </tr>\n",
       "  </tbody>\n",
       "</table>\n",
       "</div>"
      ],
      "text/plain": [
       "  Predicted Labels Actual Labels\n",
       "0              sad      surprise\n",
       "1            angry         angry\n",
       "2            angry         angry\n",
       "3         surprise         angry\n",
       "4              sad           sad\n",
       "5          neutral      surprise\n",
       "6            angry         angry\n",
       "7            angry         angry\n",
       "8            happy      surprise\n",
       "9         surprise      surprise"
      ]
     },
     "execution_count": 17,
     "metadata": {},
     "output_type": "execute_result"
    }
   ],
   "source": [
    "df = pd.DataFrame(columns=['Predicted Labels', 'Actual Labels'])\n",
    "df['Predicted Labels'] = y_pred.flatten()\n",
    "df['Actual Labels'] = y_test.flatten()\n",
    "\n",
    "df.head(10)"
   ]
  },
  {
   "cell_type": "code",
   "execution_count": 18,
   "metadata": {
    "colab": {
     "base_uri": "https://localhost:8080/",
     "height": 630
    },
    "id": "LrOFCWFqc0aG",
    "outputId": "546e0992-1c4a-4d42-b27b-387bbdc0b270"
   },
   "outputs": [
    {
     "data": {
      "image/png": "[encoded data removed]",
      "text/plain": [
       "<Figure size 864x720 with 2 Axes>"
      ]
     },
     "metadata": {
      "needs_background": "light"
     },
     "output_type": "display_data"
    }
   ],
   "source": [
    "cm = confusion_matrix(y_test, y_pred)\n",
    "plt.figure(figsize = (12, 10))\n",
    "cm = pd.DataFrame(cm , index = [i for i in encoder.categories_] , columns = [i for i in encoder.categories_])\n",
    "sns.heatmap(cm, linecolor='white', cmap='Blues', linewidth=1, annot=True, fmt='')\n",
    "plt.title('Confusion Matrix', size=20)\n",
    "plt.xlabel('Predicted Labels', size=14)\n",
    "plt.ylabel('Actual Labels', size=14)\n",
    "plt.show()"
   ]
  },
  {
   "cell_type": "code",
   "execution_count": 19,
   "metadata": {
    "colab": {
     "base_uri": "https://localhost:8080/"
    },
    "id": "kaaXQSZAc8N_",
    "outputId": "86a898d3-1b6a-48d7-9281-d51481b9f5d9"
   },
   "outputs": [
    {
     "name": "stdout",
     "output_type": "stream",
     "text": [
      "              precision    recall  f1-score   support\n",
      "\n",
      "       angry       0.91      0.80      0.85       148\n",
      "        fear       0.78      0.84      0.81       135\n",
      "       happy       0.73      0.68      0.71       148\n",
      "     neutral       0.73      0.73      0.73        82\n",
      "         sad       0.73      0.82      0.77       149\n",
      "    surprise       0.79      0.78      0.79       130\n",
      "\n",
      "    accuracy                           0.78       792\n",
      "   macro avg       0.78      0.78      0.78       792\n",
      "weighted avg       0.78      0.78      0.78       792\n",
      "\n"
     ]
    }
   ],
   "source": [
    "print(classification_report(y_test, y_pred))"
   ]
  },
  {
   "cell_type": "code",
   "execution_count": 2,
   "metadata": {},
   "outputs": [],
   "source": [
    "from keras.models import load_model\n",
    "model = load_model(r'C:\\Users\\Joyce Huang\\Downloads\\BT5153 - Applied Machine Learning for Business Analytics\\final-project\\77model.h5')"
   ]
  },
  {
   "cell_type": "code",
   "execution_count": 26,
   "metadata": {},
   "outputs": [],
   "source": [
    "pred_test = model.predict(x_test)"
   ]
  },
  {
   "cell_type": "code",
   "execution_count": 38,
   "metadata": {},
   "outputs": [
    {
     "data": {
      "text/plain": [
       "(792, 162, 1)"
      ]
     },
     "execution_count": 38,
     "metadata": {},
     "output_type": "execute_result"
    }
   ],
   "source": [
    "x_test.shape\n",
    "x_test.reshape()"
   ]
  },
  {
   "cell_type": "code",
   "execution_count": 48,
   "metadata": {},
   "outputs": [
    {
     "data": {
      "text/plain": [
       "(792, 162)"
      ]
     },
     "execution_count": 48,
     "metadata": {},
     "output_type": "execute_result"
    }
   ],
   "source": [
    "x_reduce = np.squeeze(x_test, axis=(2,))\n",
    "x_reduce.shape"
   ]
  },
  {
   "cell_type": "code",
   "execution_count": 70,
   "metadata": {},
   "outputs": [],
   "source": [
    "df = pd.DataFrame(x_reduce)\n",
    "df2 = pd.DataFrame(pred_test)\n",
    "df2.columns = ['angry','fear','happy','neutral','sad','surprise']"
   ]
  },
  {
   "cell_type": "code",
   "execution_count": 71,
   "metadata": {},
   "outputs": [
    {
     "data": {
      "text/html": [
       "<div>\n",
       "<style scoped>\n",
       "    .dataframe tbody tr th:only-of-type {\n",
       "        vertical-align: middle;\n",
       "    }\n",
       "\n",
       "    .dataframe tbody tr th {\n",
       "        vertical-align: top;\n",
       "    }\n",
       "\n",
       "    .dataframe thead th {\n",
       "        text-align: right;\n",
       "    }\n",
       "</style>\n",
       "<table border=\"1\" class=\"dataframe\">\n",
       "  <thead>\n",
       "    <tr style=\"text-align: right;\">\n",
       "      <th></th>\n",
       "      <th>0</th>\n",
       "      <th>1</th>\n",
       "      <th>2</th>\n",
       "      <th>3</th>\n",
       "      <th>4</th>\n",
       "      <th>5</th>\n",
       "      <th>6</th>\n",
       "      <th>7</th>\n",
       "      <th>8</th>\n",
       "      <th>9</th>\n",
       "      <th>...</th>\n",
       "      <th>158</th>\n",
       "      <th>159</th>\n",
       "      <th>160</th>\n",
       "      <th>161</th>\n",
       "      <th>angry</th>\n",
       "      <th>fear</th>\n",
       "      <th>happy</th>\n",
       "      <th>neutral</th>\n",
       "      <th>sad</th>\n",
       "      <th>surprise</th>\n",
       "    </tr>\n",
       "  </thead>\n",
       "  <tbody>\n",
       "    <tr>\n",
       "      <th>0</th>\n",
       "      <td>-0.869042</td>\n",
       "      <td>0.390978</td>\n",
       "      <td>-0.053187</td>\n",
       "      <td>-0.009711</td>\n",
       "      <td>0.070789</td>\n",
       "      <td>0.236571</td>\n",
       "      <td>0.528268</td>\n",
       "      <td>0.142324</td>\n",
       "      <td>0.472663</td>\n",
       "      <td>0.437174</td>\n",
       "      <td>...</td>\n",
       "      <td>-0.302571</td>\n",
       "      <td>-0.290198</td>\n",
       "      <td>-0.228890</td>\n",
       "      <td>-0.185042</td>\n",
       "      <td>0.000466</td>\n",
       "      <td>0.028949</td>\n",
       "      <td>0.007229</td>\n",
       "      <td>0.386752</td>\n",
       "      <td>0.554057</td>\n",
       "      <td>0.022548</td>\n",
       "    </tr>\n",
       "    <tr>\n",
       "      <th>1</th>\n",
       "      <td>0.506335</td>\n",
       "      <td>0.174729</td>\n",
       "      <td>-0.940842</td>\n",
       "      <td>-0.775663</td>\n",
       "      <td>-0.467790</td>\n",
       "      <td>-0.240562</td>\n",
       "      <td>-0.636912</td>\n",
       "      <td>-0.743126</td>\n",
       "      <td>-0.307940</td>\n",
       "      <td>-0.589288</td>\n",
       "      <td>...</td>\n",
       "      <td>-0.255526</td>\n",
       "      <td>-0.261464</td>\n",
       "      <td>-0.208520</td>\n",
       "      <td>-0.182816</td>\n",
       "      <td>0.569293</td>\n",
       "      <td>0.000263</td>\n",
       "      <td>0.371317</td>\n",
       "      <td>0.056847</td>\n",
       "      <td>0.000176</td>\n",
       "      <td>0.002104</td>\n",
       "    </tr>\n",
       "    <tr>\n",
       "      <th>2</th>\n",
       "      <td>-0.895873</td>\n",
       "      <td>0.537955</td>\n",
       "      <td>0.743812</td>\n",
       "      <td>1.156167</td>\n",
       "      <td>1.601975</td>\n",
       "      <td>0.944988</td>\n",
       "      <td>0.742928</td>\n",
       "      <td>0.501432</td>\n",
       "      <td>0.672732</td>\n",
       "      <td>0.209543</td>\n",
       "      <td>...</td>\n",
       "      <td>1.518587</td>\n",
       "      <td>0.917565</td>\n",
       "      <td>0.177509</td>\n",
       "      <td>-0.145885</td>\n",
       "      <td>0.998569</td>\n",
       "      <td>0.001125</td>\n",
       "      <td>0.000134</td>\n",
       "      <td>0.000082</td>\n",
       "      <td>0.000009</td>\n",
       "      <td>0.000081</td>\n",
       "    </tr>\n",
       "  </tbody>\n",
       "</table>\n",
       "<p>3 rows × 168 columns</p>\n",
       "</div>"
      ],
      "text/plain": [
       "          0         1         2         3         4         5         6  \\\n",
       "0 -0.869042  0.390978 -0.053187 -0.009711  0.070789  0.236571  0.528268   \n",
       "1  0.506335  0.174729 -0.940842 -0.775663 -0.467790 -0.240562 -0.636912   \n",
       "2 -0.895873  0.537955  0.743812  1.156167  1.601975  0.944988  0.742928   \n",
       "\n",
       "          7         8         9  ...       158       159       160       161  \\\n",
       "0  0.142324  0.472663  0.437174  ... -0.302571 -0.290198 -0.228890 -0.185042   \n",
       "1 -0.743126 -0.307940 -0.589288  ... -0.255526 -0.261464 -0.208520 -0.182816   \n",
       "2  0.501432  0.672732  0.209543  ...  1.518587  0.917565  0.177509 -0.145885   \n",
       "\n",
       "      angry      fear     happy   neutral       sad  surprise  \n",
       "0  0.000466  0.028949  0.007229  0.386752  0.554057  0.022548  \n",
       "1  0.569293  0.000263  0.371317  0.056847  0.000176  0.002104  \n",
       "2  0.998569  0.001125  0.000134  0.000082  0.000009  0.000081  \n",
       "\n",
       "[3 rows x 168 columns]"
      ]
     },
     "metadata": {},
     "output_type": "display_data"
    }
   ],
   "source": [
    "df_pred = pd.concat([df, df2], axis=1)\n",
    "display(df_pred.head(3))"
   ]
  },
  {
   "cell_type": "code",
   "execution_count": 75,
   "metadata": {},
   "outputs": [
    {
     "data": {
      "text/html": [
       "<div>\n",
       "<style scoped>\n",
       "    .dataframe tbody tr th:only-of-type {\n",
       "        vertical-align: middle;\n",
       "    }\n",
       "\n",
       "    .dataframe tbody tr th {\n",
       "        vertical-align: top;\n",
       "    }\n",
       "\n",
       "    .dataframe thead th {\n",
       "        text-align: right;\n",
       "    }\n",
       "</style>\n",
       "<table border=\"1\" class=\"dataframe\">\n",
       "  <thead>\n",
       "    <tr style=\"text-align: right;\">\n",
       "      <th></th>\n",
       "      <th>0</th>\n",
       "      <th>1</th>\n",
       "      <th>2</th>\n",
       "      <th>3</th>\n",
       "      <th>4</th>\n",
       "      <th>5</th>\n",
       "      <th>6</th>\n",
       "      <th>7</th>\n",
       "      <th>8</th>\n",
       "      <th>9</th>\n",
       "      <th>...</th>\n",
       "      <th>160</th>\n",
       "      <th>161</th>\n",
       "      <th>angry</th>\n",
       "      <th>fear</th>\n",
       "      <th>happy</th>\n",
       "      <th>neutral</th>\n",
       "      <th>sad</th>\n",
       "      <th>surprise</th>\n",
       "      <th>pred_label</th>\n",
       "      <th>label</th>\n",
       "    </tr>\n",
       "  </thead>\n",
       "  <tbody>\n",
       "    <tr>\n",
       "      <th>0</th>\n",
       "      <td>-0.869042</td>\n",
       "      <td>0.390978</td>\n",
       "      <td>-0.053187</td>\n",
       "      <td>-0.009711</td>\n",
       "      <td>0.070789</td>\n",
       "      <td>0.236571</td>\n",
       "      <td>0.528268</td>\n",
       "      <td>0.142324</td>\n",
       "      <td>0.472663</td>\n",
       "      <td>0.437174</td>\n",
       "      <td>...</td>\n",
       "      <td>-0.228890</td>\n",
       "      <td>-0.185042</td>\n",
       "      <td>0.000466</td>\n",
       "      <td>0.028949</td>\n",
       "      <td>0.007229</td>\n",
       "      <td>0.386752</td>\n",
       "      <td>0.554057</td>\n",
       "      <td>0.022548</td>\n",
       "      <td>sad</td>\n",
       "      <td>surprise</td>\n",
       "    </tr>\n",
       "    <tr>\n",
       "      <th>1</th>\n",
       "      <td>0.506335</td>\n",
       "      <td>0.174729</td>\n",
       "      <td>-0.940842</td>\n",
       "      <td>-0.775663</td>\n",
       "      <td>-0.467790</td>\n",
       "      <td>-0.240562</td>\n",
       "      <td>-0.636912</td>\n",
       "      <td>-0.743126</td>\n",
       "      <td>-0.307940</td>\n",
       "      <td>-0.589288</td>\n",
       "      <td>...</td>\n",
       "      <td>-0.208520</td>\n",
       "      <td>-0.182816</td>\n",
       "      <td>0.569293</td>\n",
       "      <td>0.000263</td>\n",
       "      <td>0.371317</td>\n",
       "      <td>0.056847</td>\n",
       "      <td>0.000176</td>\n",
       "      <td>0.002104</td>\n",
       "      <td>angry</td>\n",
       "      <td>angry</td>\n",
       "    </tr>\n",
       "    <tr>\n",
       "      <th>2</th>\n",
       "      <td>-0.895873</td>\n",
       "      <td>0.537955</td>\n",
       "      <td>0.743812</td>\n",
       "      <td>1.156167</td>\n",
       "      <td>1.601975</td>\n",
       "      <td>0.944988</td>\n",
       "      <td>0.742928</td>\n",
       "      <td>0.501432</td>\n",
       "      <td>0.672732</td>\n",
       "      <td>0.209543</td>\n",
       "      <td>...</td>\n",
       "      <td>0.177509</td>\n",
       "      <td>-0.145885</td>\n",
       "      <td>0.998569</td>\n",
       "      <td>0.001125</td>\n",
       "      <td>0.000134</td>\n",
       "      <td>0.000082</td>\n",
       "      <td>0.000009</td>\n",
       "      <td>0.000081</td>\n",
       "      <td>angry</td>\n",
       "      <td>angry</td>\n",
       "    </tr>\n",
       "  </tbody>\n",
       "</table>\n",
       "<p>3 rows × 170 columns</p>\n",
       "</div>"
      ],
      "text/plain": [
       "          0         1         2         3         4         5         6  \\\n",
       "0 -0.869042  0.390978 -0.053187 -0.009711  0.070789  0.236571  0.528268   \n",
       "1  0.506335  0.174729 -0.940842 -0.775663 -0.467790 -0.240562 -0.636912   \n",
       "2 -0.895873  0.537955  0.743812  1.156167  1.601975  0.944988  0.742928   \n",
       "\n",
       "          7         8         9  ...       160       161     angry      fear  \\\n",
       "0  0.142324  0.472663  0.437174  ... -0.228890 -0.185042  0.000466  0.028949   \n",
       "1 -0.743126 -0.307940 -0.589288  ... -0.208520 -0.182816  0.569293  0.000263   \n",
       "2  0.501432  0.672732  0.209543  ...  0.177509 -0.145885  0.998569  0.001125   \n",
       "\n",
       "      happy   neutral       sad  surprise  pred_label     label  \n",
       "0  0.007229  0.386752  0.554057  0.022548         sad  surprise  \n",
       "1  0.371317  0.056847  0.000176  0.002104       angry     angry  \n",
       "2  0.000134  0.000082  0.000009  0.000081       angry     angry  \n",
       "\n",
       "[3 rows x 170 columns]"
      ]
     },
     "metadata": {},
     "output_type": "display_data"
    }
   ],
   "source": [
    "y_test_label = encoder.inverse_transform(y_test)\n",
    "y_test_label\n",
    "\n",
    "y_pred_label = encoder.inverse_transform(pred_test)\n",
    "y_pred_label\n",
    "\n",
    "df_pred['pred_label'] = y_pred_label\n",
    "df_pred['label'] = y_test_label\n",
    "display(df_pred.head(3))"
   ]
  }
 ],
 "metadata": {
  "colab": {
   "name": "Audio Modeling.ipynb",
   "provenance": []
  },
  "kernelspec": {
   "display_name": "Python 3",
   "language": "python",
   "name": "python3"
  },
  "language_info": {
   "codemirror_mode": {
    "name": "ipython",
    "version": 3
   },
   "file_extension": ".py",
   "mimetype": "text/x-python",
   "name": "python",
   "nbconvert_exporter": "python",
   "pygments_lexer": "ipython3",
   "version": "3.8.8"
  }
 },
 "nbformat": 4,
 "nbformat_minor": 1
}
